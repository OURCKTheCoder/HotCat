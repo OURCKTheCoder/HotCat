{
 "cells": [
  {
   "cell_type": "code",
   "execution_count": 1,
   "outputs": [
    {
     "name": "stdout",
     "output_type": "stream",
     "text": [
      "handleRequest error Caused by: org.apache.commons.jexl3.JexlException$Variable: io.github.binarybeing.hotcat.plugin.server.controller.IdeaPanelController.handle@1:1 undefined variable javaParser\n",
      "\tat io.github.binarybeing.hotcat.plugin.server.controller.IdeaPanelController.handle(IdeaPanelController.java:82)\n",
      "\tat io.github.binarybeing.hotcat.plugin.server.controller.BaseEventScriptController.lambda$handle$0(BaseEventScriptController.java:42)\n",
      "\tat io.github.binarybeing.hotcat.plugin.utils.ApplicationRunnerUtils.lambda$run$1(ApplicationRunnerUtils.java:41)\n",
      "\tat com.intellij.openapi.application.TransactionGuardImpl.runWithWritingAllowed(TransactionGuardImpl.java:215)\n",
      "\tat com.intellij.openapi.application.TransactionGuardImpl.access$100(TransactionGuardImpl.java:22)\n",
      "\tat com.intellij.openapi.application.TransactionGuardImpl$1.run(TransactionGuardImpl.java:197)\n",
      "\tat com.intellij.openapi.application.impl.ApplicationImpl.runIntendedWriteActionOnCurrentThread(ApplicationImpl.java:873)\n",
      "\tat com.intellij.openapi.application.impl.ApplicationImpl$3.run(ApplicationImpl.java:511)\n",
      "\tat com.intellij.openapi.application.impl.FlushQueue.doRun(FlushQueue.java:69)\n",
      "\tat com.intellij.openapi.application.impl.FlushQueue.runNextEvent(FlushQueue.java:112)\n",
      "\tat com.intellij.openapi.application.impl.FlushQueue.flushNow(FlushQueue.java:42)\n",
      "\tat java.desktop/java.awt.event.InvocationEvent.dispatch(InvocationEvent.java:313)\n",
      "\tat java.desktop/java.awt.EventQueue.dispatchEventImpl(EventQueue.java:776)\n",
      "\tat java.desktop/java.awt.EventQueue$4.run(EventQueue.java:727)\n",
      "\tat java.desktop/java.awt.EventQueue$4.run(EventQueue.java:721)\n",
      "\tat java.base/java.security.AccessController.doPrivileged(Native Method)\n",
      "\tat java.base/java.security.ProtectionDomain$JavaSecurityAccessImpl.doIntersectionPrivilege(ProtectionDomain.java:85)\n",
      "\tat java.desktop/java.awt.EventQueue.dispatchEvent(EventQueue.java:746)\n",
      "\tat com.intellij.ide.IdeEventQueue.defaultDispatchEvent(IdeEventQueue.java:898)\n",
      "\tat com.intellij.ide.IdeEventQueue._dispatchEvent(IdeEventQueue.java:746)\n",
      "\tat com.intellij.ide.IdeEventQueue.lambda$dispatchEvent$6(IdeEventQueue.java:439)\n",
      "\tat com.intellij.openapi.progress.impl.CoreProgressManager.computePrioritized(CoreProgressManager.java:803)\n",
      "\tat com.intellij.ide.IdeEventQueue.lambda$dispatchEvent$7(IdeEventQueue.java:438)\n",
      "\tat com.intellij.openapi.application.TransactionGuardImpl.performActivity(TransactionGuardImpl.java:106)\n",
      "\tat com.intellij.ide.IdeEventQueue.performActivity(IdeEventQueue.java:604)\n",
      "\tat com.intellij.ide.IdeEventQueue.lambda$dispatchEvent$8(IdeEventQueue.java:436)\n",
      "\tat com.intellij.openapi.application.impl.ApplicationImpl.runIntendedWriteActionOnCurrentThread(ApplicationImpl.java:873)\n",
      "\tat com.intellij.ide.IdeEventQueue.dispatchEvent(IdeEventQueue.java:484)\n",
      "\tat java.desktop/java.awt.EventDispatchThread.pumpOneEventForFilters(EventDispatchThread.java:207)\n",
      "\tat java.desktop/java.awt.EventDispatchThread.pumpEventsForFilter(EventDispatchThread.java:128)\n",
      "\tat java.desktop/java.awt.EventDispatchThread.pumpEventsForHierarchy(EventDispatchThread.java:117)\n",
      "\tat java.desktop/java.awt.EventDispatchThread.pumpEvents(EventDispatchThread.java:113)\n",
      "\tat java.desktop/java.awt.EventDispatchThread.pumpEvents(EventDispatchThread.java:105)\n",
      "\tat java.desktop/java.awt.EventDispatchThread.run(EventDispatchThread.java:92)\n",
      "\n",
      "\n"
     ]
    },
    {
     "ename": "KeyError",
     "evalue": "'data'",
     "output_type": "error",
     "traceback": [
      "\u001B[0;31m---------------------------------------------------------------------------\u001B[0m",
      "\u001B[0;31mKeyError\u001B[0m                                  Traceback (most recent call last)",
      "Cell \u001B[0;32mIn[1], line 9\u001B[0m\n\u001B[1;32m      7\u001B[0m post \u001B[38;5;241m=\u001B[39m http_client\u001B[38;5;241m.\u001B[39mpost(script)\n\u001B[1;32m      8\u001B[0m \u001B[38;5;28mprint\u001B[39m(post\u001B[38;5;241m.\u001B[39mjson()[\u001B[38;5;124m\"\u001B[39m\u001B[38;5;124mmsg\u001B[39m\u001B[38;5;124m\"\u001B[39m])\n\u001B[0;32m----> 9\u001B[0m \u001B[38;5;28mprint\u001B[39m(\u001B[43mpost\u001B[49m\u001B[38;5;241;43m.\u001B[39;49m\u001B[43mjson\u001B[49m\u001B[43m(\u001B[49m\u001B[43m)\u001B[49m\u001B[43m[\u001B[49m\u001B[38;5;124;43m\"\u001B[39;49m\u001B[38;5;124;43mdata\u001B[39;49m\u001B[38;5;124;43m\"\u001B[39;49m\u001B[43m]\u001B[49m)\n",
      "\u001B[0;31mKeyError\u001B[0m: 'data'"
     ]
    }
   ],
   "source": [
    "from idea_http_client import Client\n",
    "import time\n",
    "\n",
    "http_client = Client(path=\"/api/idea/panel\")\n",
    "\n",
    "script = \"javaParser.getSelectedMethodModel()\"\n",
    "post = http_client.post(script)\n",
    "print(post.json()[\"msg\"])\n",
    "print(post.json()[\"data\"])\n",
    "\n"
   ],
   "metadata": {
    "collapsed": false,
    "pycharm": {
     "name": "#%%\n"
    }
   }
  },
  {
   "cell_type": "code",
   "execution_count": 1,
   "outputs": [
    {
     "name": "stdout",
     "output_type": "stream",
     "text": [
      "success\n",
      "['echo good', 'echo EOF', '%', '%                                                                                                                                                                                                                                       ', '                                                                                                                                                                                                                                        ', '', '(pytest) ', '(pytest) ➜  ', '(pytest) ➜  HotCat', '(pytest) ➜  HotCat ', '(pytest) ➜  HotCat git:(', '(pytest) ➜  HotCat git:(v-213-223', '(pytest) ➜  HotCat git:(v-213-223) ', '(pytest) ➜  HotCat git:(v-213-223) ✗', '(pytest) ➜  HotCat git:(v-213-223) ✗ ', '(pytest) ➜  HotCat git:(v-213-223) ✗ ', '(pytest) ➜  HotCat git:(v-213-223) ✗ e', '(pytest) ➜  HotCat git:(v-213-223) ✗ echo good', 'good', '%', '%                                                                                                                                                                                                                                       ', '                                                                                                                                                                                                                                        ', '', '(pytest) ', '(pytest) ➜  ', '(pytest) ➜  HotCat', '(pytest) ➜  HotCat ', '(pytest) ➜  HotCat git:(', '(pytest) ➜  HotCat git:(v-213-223', '(pytest) ➜  HotCat git:(v-213-223) ', '(pytest) ➜  HotCat git:(v-213-223) ✗', '(pytest) ➜  HotCat git:(v-213-223) ✗ ', '(pytest) ➜  HotCat git:(v-213-223) ✗ ', '(pytest) ➜  HotCat git:(v-213-223) ✗ e', '(pytest) ➜  HotCat git:(v-213-223) ✗ echo EOF', '%', '%                                                                                                                                                                                                                                       ', '                                                                                                                                                                                                                                        ']\n"
     ]
    }
   ],
   "source": [
    "from idea_http_client import Client\n",
    "import time\n",
    "\n",
    "http_client = Client(path=\"/api/idea/terminal\")\n",
    "\n",
    "script = \"terminal.setScript(\\\"echo good\\\").startAndGetResult()\"\n",
    "post = http_client.post(script)\n",
    "print(post.json()[\"msg\"])\n",
    "print(post.json()[\"data\"])"
   ],
   "metadata": {
    "collapsed": false,
    "pycharm": {
     "name": "#%%\n"
    }
   }
  },
  {
   "cell_type": "code",
   "execution_count": null,
   "outputs": [],
   "source": [],
   "metadata": {
    "collapsed": false,
    "pycharm": {
     "name": "#%%\n"
    }
   }
  }
 ],
 "metadata": {
  "kernelspec": {
   "display_name": "Python 3",
   "language": "python",
   "name": "python3"
  },
  "language_info": {
   "codemirror_mode": {
    "name": "ipython",
    "version": 2
   },
   "file_extension": ".py",
   "mimetype": "text/x-python",
   "name": "python",
   "nbconvert_exporter": "python",
   "pygments_lexer": "ipython2",
   "version": "2.7.6"
  }
 },
 "nbformat": 4,
 "nbformat_minor": 0
}